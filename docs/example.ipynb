{
    "cells": [
        {
            "cell_type": "markdown",
            "metadata": {},
            "source": [
                "# Sparse Logistic SVD: User Guide"
            ]
        },
        {
            "cell_type": "markdown",
            "metadata": {},
            "source": [
                "## Setup"
            ]
        },
        {
            "cell_type": "code",
            "execution_count": null,
            "metadata": {},
            "outputs": [],
            "source": [
                "import slsvd\n",
                "import numpy as np\n",
                "\n",
                "print(slsvd.__version__)"
            ]
        },
        {
            "cell_type": "markdown",
            "metadata": {},
            "source": [
                "## Data Generation"
            ]
        },
        {
            "cell_type": "code",
            "execution_count": null,
            "metadata": {},
            "outputs": [],
            "source": [
                "from slsvd.data_generation import generate_data"
            ]
        },
        {
            "cell_type": "code",
            "execution_count": null,
            "metadata": {},
            "outputs": [],
            "source": []
        },
        {
            "cell_type": "code",
            "execution_count": null,
            "metadata": {},
            "outputs": [],
            "source": [
                "# Plotting the first column\n",
                "plt.subplot(1, 2, 1)\n",
                "plt.scatter(range(len(loadings[:, 0])), loadings[:, 0], marker='o')\n",
                "for i, val in enumerate(loadings[:, 0]):\n",
                "    plt.vlines(i, 0, val, color='r', linestyle='--', alpha=0.5)\n",
                "plt.title('First Column of Loadings')\n",
                "\n",
                "# Plotting the second column\n",
                "plt.subplot(1, 2, 2)\n",
                "plt.scatter(range(len(loadings[:, 1])), loadings[:, 1], marker='o')\n",
                "for i, val in enumerate(loadings[:, 1]):\n",
                "    plt.vlines(i, 0, val, color='r', linestyle='--', alpha=0.5)\n",
                "plt.title('Second Column of Loadings')\n",
                "\n",
                "plt.tight_layout()\n",
                "plt.show()"
            ]
        },
        {
            "cell_type": "code",
            "execution_count": null,
            "metadata": {},
            "outputs": [],
            "source": [
                "import matplotlib.pyplot as plt\n",
                "\n",
                "# Plot heatmap\n",
                "plt.figure(figsize=(8, 6))\n",
                "plt.imshow(bin_mat, cmap='viridis', interpolation='nearest')\n",
                "plt.colorbar(label='Color Intensity')\n",
                "plt.title('Heatmap of bin_mat')\n",
                "plt.xlabel('X-axis')\n",
                "plt.ylabel('Y-axis')\n",
                "plt.show()"
            ]
        },
        {
            "cell_type": "code",
            "execution_count": null,
            "metadata": {},
            "outputs": [],
            "source": []
        },
        {
            "cell_type": "markdown",
            "metadata": {},
            "source": [
                "## Sparse Logistic SVD"
            ]
        },
        {
            "cell_type": "code",
            "execution_count": null,
            "metadata": {},
            "outputs": [],
            "source": [
                "mu, A, B, zeros, BIC, m, loss, lambdas = sparse_logistic_pca(bin_mat, lambda_val=0.01, k=2, procrustes=False, lasso=False)"
            ]
        },
        {
            "cell_type": "code",
            "execution_count": null,
            "metadata": {},
            "outputs": [],
            "source": [
                "iterations = np.arange(1, len(loss) + 1)\n",
                "\n",
                "# Plot loss values against iteration numbers\n",
                "plt.plot(iterations, loss, marker='o', linestyle='-')\n",
                "plt.title('Loss Convergence')\n",
                "plt.xlabel('Iteration')\n",
                "plt.ylabel('Loss')\n",
                "plt.grid(True)\n",
                "plt.show()"
            ]
        },
        {
            "cell_type": "code",
            "execution_count": null,
            "metadata": {},
            "outputs": [],
            "source": []
        },
        {
            "cell_type": "markdown",
            "metadata": {},
            "source": [
                "## Visualization"
            ]
        },
        {
            "cell_type": "code",
            "execution_count": null,
            "metadata": {},
            "outputs": [],
            "source": [
                "# Apply PCA\n",
                "pca = PCA(n_components=2)\n",
                "pca_result = pca.fit_transform(bin_mat)\n",
                "\n",
                "# Visualize PCA results\n",
                "plt.scatter(pca_result[:, 0], pca_result[:, 1])\n",
                "plt.title('PCA Visualization of Binary Matrix')\n",
                "plt.xlabel('Principal Component 1')\n",
                "plt.ylabel('Principal Component 2')\n",
                "plt.axvline(x=0,color='black')\n",
                "plt.axhline(y=0,color='black')\n",
                "plt.show()"
            ]
        },
        {
            "cell_type": "code",
            "execution_count": null,
            "metadata": {},
            "outputs": [],
            "source": [
                "bin_mat_c = bin_mat - np.mean(bin_mat, axis=0)\n",
                "\n",
                "# Step 2: Perform SVD on the centered matrix\n",
                "U, S, Vt = np.linalg.svd(bin_mat_c, full_matrices=False)\n",
                "\n",
                "\n",
                "# Take the first two components\n",
                "svd_result = U[:, :2] * S[:2]\n",
                "\n",
                "# Visualize SVD results\n",
                "plt.scatter(-svd_result[:, 0], -svd_result[:, 1])\n",
                "plt.title('SVD Visualization of Binary Matrix')\n",
                "plt.xlabel('SVD Component 1')\n",
                "plt.ylabel('SVD Component 2')\n",
                "plt.axvline(x=0,color='black')\n",
                "plt.axhline(y=0,color='black')\n",
                "plt.show()"
            ]
        },
        {
            "cell_type": "code",
            "execution_count": null,
            "metadata": {},
            "outputs": [],
            "source": [
                "slpca_result=A\n",
                "plt.scatter(slpca_result[:, 0], slpca_result[:, 1])\n",
                "plt.title('SLPCA Visualization of Binary Matrix')\n",
                "plt.xlabel('SLPCA Component 1')\n",
                "plt.ylabel('SLPCA Component 2')\n",
                "plt.axvline(x=0,color='black')\n",
                "plt.axhline(y=0,color='black')\n",
                "plt.show()"
            ]
        },
        {
            "cell_type": "code",
            "execution_count": null,
            "metadata": {},
            "outputs": [],
            "source": [
                "plt.subplot(1, 2, 1)\n",
                "plt.scatter(range(len(loadings[:, 0])), loadings[:, 0], marker='o')\n",
                "for i, val in enumerate(loadings[:, 0]):\n",
                "    plt.vlines(i, 0, val, color='r', linestyle='--', alpha=0.5)\n",
                "plt.title('First Column of True Loadings')\n",
                "\n",
                "# Plotting the second column\n",
                "plt.subplot(1, 2, 2)\n",
                "plt.scatter(range(len(loadings[:, 1])), B[:, 0], marker='o')\n",
                "for i, val in enumerate(B[:, 0]):\n",
                "    plt.vlines(i, 0, val, color='r', linestyle='--', alpha=0.5)\n",
                "plt.title('First Column of Estimated Loadings')\n",
                "\n",
                "plt.tight_layout()\n",
                "plt.show()"
            ]
        },
        {
            "cell_type": "code",
            "execution_count": null,
            "metadata": {},
            "outputs": [],
            "source": []
        },
        {
            "cell_type": "code",
            "execution_count": null,
            "metadata": {},
            "outputs": [],
            "source": []
        },
        {
            "cell_type": "markdown",
            "metadata": {},
            "source": [
                "# Reference\n",
                "\n",
                "Lee, S., Huang, J. Z., & Hu, J. (2010). Sparse logistic principal components analysis for binary data. The annals of applied statistics, 4(3), 1579."
            ]
        }
    ],
    "metadata": {
        "kernelspec": {
            "display_name": "Python 3",
            "language": "python",
            "name": "python3"
        },
        "language_info": {
            "codemirror_mode": {
                "name": "ipython",
                "version": 3
            },
            "file_extension": ".py",
            "mimetype": "text/x-python",
            "name": "python",
            "nbconvert_exporter": "python",
            "pygments_lexer": "ipython3",
            "version": "3.8.5"
        }
    },
    "nbformat": 4,
    "nbformat_minor": 4
}
